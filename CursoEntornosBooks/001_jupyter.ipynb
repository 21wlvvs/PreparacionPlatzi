{
 "cells": [
  {
   "cell_type": "code",
   "execution_count": null,
   "metadata": {},
   "outputs": [],
   "source": [
    "print('Hola Juan Carlos')"
   ]
  }
 ],
 "metadata": {
  "interpreter": {
   "hash": "fbf70ded30d3c1571d74107c828042e90fed05f9792ab84070c0523af1971f87"
  },
  "kernelspec": {
   "display_name": "Python 3.9.6 64-bit (windows store)",
   "language": "python",
   "name": "python3"
  },
  "language_info": {
   "name": "python",
   "version": "3.9.6"
  },
  "orig_nbformat": 4
 },
 "nbformat": 4,
 "nbformat_minor": 2
}
